{
 "cells": [
  {
   "cell_type": "markdown",
   "metadata": {},
   "source": [
    "__Fetch Company Name from Email address__"
   ]
  },
  {
   "cell_type": "code",
   "execution_count": 3,
   "metadata": {},
   "outputs": [
    {
     "name": "stdout",
     "output_type": "stream",
     "text": [
      "Enter Email Addr:Pushpendra@yahoo.com\n",
      "company= yahoo\n"
     ]
    }
   ],
   "source": [
    "email=input(\"Enter Email Addr:\")\n",
    "strlen=len(email)\n",
    "temp=\"\"\n",
    "i=0\n",
    "while(i<strlen and email[i]!=\"@\"):\n",
    "    i=i+1\n",
    "i=i+1\n",
    "while(i<strlen and email[i]!=\".\"):\n",
    "    temp=temp+email[i]\n",
    "    i=i+1\n",
    "print(\"company=\",temp)\n",
    "\n",
    "        "
   ]
  },
  {
   "cell_type": "markdown",
   "metadata": {},
   "source": [
    "__Sort the list of String__"
   ]
  },
  {
   "cell_type": "code",
   "execution_count": 10,
   "metadata": {
    "scrolled": true
   },
   "outputs": [
    {
     "name": "stdout",
     "output_type": "stream",
     "text": [
      "Number of String you want to enter?:4\n",
      "Enter 1 String\n",
      "without\n",
      "Enter 2 String\n",
      "hello\n",
      "Enter 3 String\n",
      "bag\n",
      "Enter 4 String\n",
      "world\n",
      "list Before sort= ['without', 'hello', 'bag', 'world']\n",
      "list After sort ['bag', 'hello', 'without', 'world']\n"
     ]
    }
   ],
   "source": [
    "num=int(input(\"Number of String you want to enter?:\"))\n",
    "li=[]\n",
    "for i in range(0,num):\n",
    "    print(\"Enter\",i+1,\"String\")\n",
    "    temp1=input()\n",
    "    li.append(temp1)\n",
    "print(\"list Before sort=\",li)\n",
    "li.sort()\n",
    "print(\"list After sort\",li)\n",
    "    "
   ]
  },
  {
   "cell_type": "markdown",
   "metadata": {},
   "source": [
    "__Create Own Sets__"
   ]
  },
  {
   "cell_type": "code",
   "execution_count": 7,
   "metadata": {},
   "outputs": [
    {
     "name": "stdout",
     "output_type": "stream",
     "text": [
      "Number of input? :4\n",
      "Enter 1 Value:\n",
      "AI\n",
      "Enter 2 Value:\n",
      "ML\n",
      "Enter 3 Value:\n",
      "Deep Learning\n",
      "Enter 4 Value:\n",
      "Python\n",
      "Your Set= {'Deep Learning', 'ML', 'AI', 'Python'}\n"
     ]
    }
   ],
   "source": [
    "num1=int(input(\"Number of input? :\"))\n",
    "setList={\"\"}\n",
    "for i in range(0,num1):\n",
    "    print(\"Enter\",i+1,\"Value:\")\n",
    "    temp2=input()\n",
    "    setList.add(temp2)\n",
    "setList.pop()\n",
    "print(\"Your Set=\",setList)\n",
    "    "
   ]
  },
  {
   "cell_type": "markdown",
   "metadata": {},
   "source": [
    "__Finding Missing Number From Squence of Number__"
   ]
  },
  {
   "cell_type": "code",
   "execution_count": 32,
   "metadata": {},
   "outputs": [
    {
     "name": "stdout",
     "output_type": "stream",
     "text": [
      "Enter range:8\n",
      "Now Enter Value Starting from 1 to 7\n",
      "1\n",
      "3\n",
      "5\n",
      "7\n",
      "8\n",
      "6\n",
      "2\n",
      "your list ['1', '3', '5', '7', '8', '6', '2']\n",
      "4 is missing\n"
     ]
    }
   ],
   "source": [
    "ran=int(input(\"Enter range:\"))\n",
    "li1=[]\n",
    "print(\"Now Enter Value Starting from 1 to\",ran-1)\n",
    "for i in range(1,ran):\n",
    "    temp3=input()\n",
    "    li1.append(temp3)    \n",
    "print(\"your list\",li)\n",
    "\n",
    "for i in range(1,ran+1):\n",
    "    j=str(i)\n",
    "    if(j not in li):\n",
    "        print(i,\"is missing\")\n",
    "     \n",
    "    "
   ]
  },
  {
   "cell_type": "markdown",
   "metadata": {},
   "source": [
    "__Remove Duplicate Values From the Given List__"
   ]
  },
  {
   "cell_type": "code",
   "execution_count": 8,
   "metadata": {},
   "outputs": [
    {
     "name": "stdout",
     "output_type": "stream",
     "text": [
      "number of input?10\n",
      "Enter 1 value:\n",
      "12\n",
      "Enter 2 value:\n",
      "24\n",
      "Enter 3 value:\n",
      "35\n",
      "Enter 4 value:\n",
      "24\n",
      "Enter 5 value:\n",
      "88\n",
      "Enter 6 value:\n",
      "120\n",
      "Enter 7 value:\n",
      "155\n",
      "Enter 8 value:\n",
      "88\n",
      "Enter 9 value:\n",
      "120\n",
      "Enter 10 value:\n",
      "155\n",
      "Your List: ['12', '24', '35', '24', '88', '120', '155', '88', '120', '155']\n",
      "Value after Removing Duplicate: ['12', '24', '35', '88', '120', '155']\n"
     ]
    }
   ],
   "source": [
    "ran1=int(input(\"number of input?\"))\n",
    "li2=[]\n",
    "def RemoveDuplicate(li2):\n",
    "    temp=[]\n",
    "    for i in li2:\n",
    "        if(i not in temp):\n",
    "            temp.append(i)\n",
    "                \n",
    "    return temp\n",
    "\n",
    "for i in range(ran1):\n",
    "    print(\"Enter\",i+1,\"value:\")\n",
    "    temp=input()\n",
    "    li2.append(temp)\n",
    "print(\"Your List:\",li2)\n",
    "print(\"Value after Removing Duplicate:\",RemoveDuplicate(li2))\n",
    "    \n",
    "    \n",
    "        \n",
    "            "
   ]
  }
 ],
 "metadata": {
  "kernelspec": {
   "display_name": "Python 3",
   "language": "python",
   "name": "python3"
  },
  "language_info": {
   "codemirror_mode": {
    "name": "ipython",
    "version": 3
   },
   "file_extension": ".py",
   "mimetype": "text/x-python",
   "name": "python",
   "nbconvert_exporter": "python",
   "pygments_lexer": "ipython3",
   "version": "3.8.3"
  }
 },
 "nbformat": 4,
 "nbformat_minor": 4
}
