{
 "cells": [
  {
   "cell_type": "markdown",
   "metadata": {},
   "source": [
    "__Program to demostrate Arithematic opertion on complex number__"
   ]
  },
  {
   "cell_type": "code",
   "execution_count": 10,
   "metadata": {},
   "outputs": [
    {
     "name": "stdout",
     "output_type": "stream",
     "text": [
      "Addition of  (6+16j) + (2+4j) = (8+20j)\n",
      "Subtraction of  (6+16j) - (2+4j) = (4+12j)\n",
      "Multiplication of  (6+16j) * (2+4j) = (-52+56j)\n",
      "Division of  (6+16j) / (2+4j) = (3.8+0.4j)\n"
     ]
    }
   ],
   "source": [
    "comp_1=6+16j\n",
    "comp_2=2+4j\n",
    "result=comp_1+comp_2\n",
    "print(\"Addition of \",comp_1,\"+\",comp_2,\"=\",result)\n",
    "result=comp_1-comp_2\n",
    "print(\"Subtraction of \",comp_1,\"-\",comp_2,\"=\",result)\n",
    "result=comp_1*comp_2\n",
    "print(\"Multiplication of \",comp_1,\"*\",comp_2,\"=\",result)\n",
    "result=comp_1/comp_2\n",
    "print(\"Division of \",comp_1,\"/\",comp_2,\"=\",result)\n",
    "\n",
    "#can't perform Floor Divison and modulo Operation,Gives ERROR\n",
    "\n",
    "#  reult=comp_1//comp_2\n",
    "#print(\"Modulo of \",comp_1,\"%\",comp_2,\"=\",result)    \n",
    "\n",
    "#result=comp_1%comp_2\n",
    "#print(\"Modulo of \",comp_1,\"%\",comp_2,\"=\",result)"
   ]
  },
  {
   "cell_type": "markdown",
   "metadata": {},
   "source": [
    "__Range and its Parameter__"
   ]
  },
  {
   "cell_type": "code",
   "execution_count": 11,
   "metadata": {},
   "outputs": [
    {
     "name": "stdout",
     "output_type": "stream",
     "text": [
      "0 1 2 3 4 5 6 7 8 9 "
     ]
    }
   ],
   "source": [
    "#Printing set of value using Range(),One value as Parameter-Staring from zero\n",
    "for i in range(10):\n",
    "    print(i,end=\" \")"
   ]
  },
  {
   "cell_type": "code",
   "execution_count": 12,
   "metadata": {},
   "outputs": [
    {
     "name": "stdout",
     "output_type": "stream",
     "text": [
      "5 6 7 8 9 10 11 12 13 14 15 "
     ]
    }
   ],
   "source": [
    "#printing set of value starting from 5 and ending at 15\n",
    "for i in range(5,16):\n",
    "    print(i,end=\" \")"
   ]
  },
  {
   "cell_type": "code",
   "execution_count": 13,
   "metadata": {},
   "outputs": [
    {
     "name": "stdout",
     "output_type": "stream",
     "text": [
      "5 8 11 14 "
     ]
    }
   ],
   "source": [
    "#printing set of value starting from 5 and ending at 15 with setsize=3\n",
    "for i in range(5,16,3):\n",
    "    print(i,end=\" \")"
   ]
  },
  {
   "cell_type": "markdown",
   "metadata": {},
   "source": [
    "__Program to Perform subtraction of two no's and if the result of subtraction is greater than 25, print\n",
    "their multiplication result else print their division result__"
   ]
  },
  {
   "cell_type": "code",
   "execution_count": 14,
   "metadata": {},
   "outputs": [
    {
     "name": "stdout",
     "output_type": "stream",
     "text": [
      "Multiplication of 60 & 12 = 720\n"
     ]
    }
   ],
   "source": [
    "a=60\n",
    "b=12\n",
    "if (a-b)>25:\n",
    "    print(\"Multiplication of\",a,\"&\",b,\"=\",a*b)\n",
    "else:\n",
    "    print(\"Divison of\",a,\"&\",b,\"=\",a/b)"
   ]
  },
  {
   "cell_type": "code",
   "execution_count": 15,
   "metadata": {},
   "outputs": [
    {
     "name": "stdout",
     "output_type": "stream",
     "text": [
      "Divison of 36 & 12 = 3.0\n"
     ]
    }
   ],
   "source": [
    "a=36\n",
    "b=12\n",
    "if (a-b)>25:\n",
    "    print(\"Multiplication of\",a,\"&\",b,\"=\",a*b)\n",
    "else:\n",
    "    print(\"Divison of\",a,\"&\",b,\"=\",a/b)"
   ]
  },
  {
   "cell_type": "markdown",
   "metadata": {},
   "source": [
    "__Program to find number in the list is divisible by 2, print the result as\"square of that number minus 2\"__"
   ]
  },
  {
   "cell_type": "code",
   "execution_count": 16,
   "metadata": {},
   "outputs": [
    {
     "name": "stdout",
     "output_type": "stream",
     "text": [
      "square of 8 - 2 = 62\n",
      "square of 4 - 2 = 14\n",
      "square of 12 - 2 = 142\n",
      "square of 16 - 2 = 254\n",
      "square of 14 - 2 = 194\n"
     ]
    }
   ],
   "source": [
    "li=[3,8,4,5,13,12,16,17,9,14]\n",
    "for i in li:\n",
    "    if (i%2==0):\n",
    "        print(\"square of\",i,\"- 2 =\",(i**2)-2)"
   ]
  },
  {
   "cell_type": "markdown",
   "metadata": {},
   "source": [
    "__Program to Print all the elements in the list which are greater than 7 when that number\n",
    "is divided 2__"
   ]
  },
  {
   "cell_type": "code",
   "execution_count": 17,
   "metadata": {},
   "outputs": [
    {
     "name": "stdout",
     "output_type": "stream",
     "text": [
      "8\n",
      "12\n",
      "16\n",
      "14\n"
     ]
    }
   ],
   "source": [
    "li=[3,8,4,5,13,12,16,17,9,14]\n",
    "for i in li:\n",
    "    if(i%2==0 and i>7):\n",
    "        print(i)"
   ]
  }
 ],
 "metadata": {
  "kernelspec": {
   "display_name": "Python 3",
   "language": "python",
   "name": "python3"
  },
  "language_info": {
   "codemirror_mode": {
    "name": "ipython",
    "version": 3
   },
   "file_extension": ".py",
   "mimetype": "text/x-python",
   "name": "python",
   "nbconvert_exporter": "python",
   "pygments_lexer": "ipython3",
   "version": "3.8.3"
  }
 },
 "nbformat": 4,
 "nbformat_minor": 4
}
