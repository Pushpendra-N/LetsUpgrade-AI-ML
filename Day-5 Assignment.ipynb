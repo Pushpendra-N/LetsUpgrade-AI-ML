{
 "cells": [
  {
   "cell_type": "markdown",
   "metadata": {},
   "source": [
    "__Python program to find the first 20 non-even prime natural numbers__"
   ]
  },
  {
   "cell_type": "code",
   "execution_count": 61,
   "metadata": {},
   "outputs": [
    {
     "name": "stdout",
     "output_type": "stream",
     "text": [
      "1 3 5 7 11 13 17 19 23 29 31 37 41 43 47 53 59 61 67 71 "
     ]
    }
   ],
   "source": [
    "Num=0                                               #checking number one by one\n",
    "Count_Nat_Nos=1                                     #count natural number\n",
    "while(True):\n",
    "    if(Count_Nat_Nos>20):\n",
    "        break\n",
    "    Num=Num+1\n",
    "    count=0                                        #for checking prime divisiblity rule \n",
    "    for i in range(Num):\n",
    "        if(Num%(i+1)==0):\n",
    "            count=count+1\n",
    "        if(count>2):                               #decrement no. of iteration\n",
    "            break\n",
    "    if(count<=2 and Num%2!=0):                    \n",
    "        print(Num,end=\" \")\n",
    "        Count_Nat_Nos=Count_Nat_Nos+1"
   ]
  },
  {
   "cell_type": "markdown",
   "metadata": {},
   "source": [
    "__Python program to implement 15 functions of string__"
   ]
  },
  {
   "cell_type": "code",
   "execution_count": 62,
   "metadata": {},
   "outputs": [
    {
     "name": "stdout",
     "output_type": "stream",
     "text": [
      "Hello\n",
      "python\n",
      "ARTIFICAL INTELLIGENCE\n",
      "machine learning\n",
      "angularJs\n",
      "12\n",
      "5\n",
      "True\n",
      "False\n",
      "False\n",
      "Django\n",
      "jAVASCRIPT\n",
      "2\n",
      "['InterNet Of Things']\n",
      "['Augumented', 'Reality']\n"
     ]
    }
   ],
   "source": [
    "print(\"heLLO\".capitalize())\n",
    "print(\"PYTHON\".casefold())\n",
    "print(\"ArTifical IntelliGence\".upper())\n",
    "print(\"MachiNE LEARNING\".lower())\n",
    "print(\"zngulzrJs\".replace('z','a'))\n",
    "print(\"Ethical HackIng\".find('I'))\n",
    "print(\"block_Chaining\".index(\"_\"))\n",
    "print(\"javaScript\".isalpha())\n",
    "print(\"CLoud CompUting123\".isalnum())\n",
    "print(\"Digital MarKeting\".isdigit())\n",
    "print(\"Django\".strip(\"jan\"))\n",
    "print(\"Javascript\".swapcase())\n",
    "print(\"Cyber SCurity\".count('y'))\n",
    "print(\"InterNet Of Things\".splitlines())\n",
    "print(\"Augumented Reality\".split())"
   ]
  },
  {
   "cell_type": "markdown",
   "metadata": {},
   "source": [
    "__Python program to check if the given string is a Palindrome or Anagram or None of them__"
   ]
  },
  {
   "cell_type": "code",
   "execution_count": 1,
   "metadata": {},
   "outputs": [
    {
     "name": "stdout",
     "output_type": "stream",
     "text": [
      "Enter First String madam\n",
      "Enter Second String madam\n",
      "Strings Are Anagram\n",
      "both string are Pallidrome\n"
     ]
    }
   ],
   "source": [
    "str1=input(\"Enter First String \").lower()\n",
    "str2=input(\"Enter Second String \").lower()\n",
    "count=0\n",
    "str3=sorted(str1)\n",
    "str4=sorted(str2)\n",
    "\n",
    "if(str3==str4):\n",
    "    print(\"Strings Are Anagram\")\n",
    "    count=count+1\n",
    "\n",
    "x=str1[::-1]\n",
    "y=str2[::-1]\n",
    "if(x==str1 and y==str2):\n",
    "    print(\"both string are Pallidrome\")\n",
    "    count=count+1\n",
    "elif(str1==x):\n",
    "    print(str1,\"is Pallidrome\")\n",
    "    count=count+1\n",
    "elif(str2==y):\n",
    "    print(str2,\"is Pallidrome\")\n",
    "    count=count+1\n",
    "\n",
    "    \n",
    "if(count==0):\n",
    "    print(\"Strings are neither Anagram nor Pallidrome\")\n",
    "    "
   ]
  },
  {
   "cell_type": "markdown",
   "metadata": {},
   "source": [
    "__Python's user-defined function that removes all the additional characters from the string and\n",
    "convert it finally to lower case using built-in lower().__"
   ]
  },
  {
   "cell_type": "code",
   "execution_count": 64,
   "metadata": {},
   "outputs": [
    {
     "name": "stdout",
     "output_type": "stream",
     "text": [
      "Enter a string: Dr. Darshan Ingle @AIML Trainer\",\n",
      "Final String= drdarshaningleaimltrainer\n"
     ]
    }
   ],
   "source": [
    "def DeleteSpecialChar(strg):\n",
    "    strg=strg.lower()\n",
    "    temp=\"\"\n",
    "    for i in strg:\n",
    "        if(i>=\"a\" and i<=\"z\"):\n",
    "            temp=temp+i\n",
    "    return temp\n",
    "\n",
    "strg=input(\"Enter a string: \")\n",
    "final_str=DeleteSpecialChar(strg)\n",
    "print(\"Final String=\",final_str)"
   ]
  }
 ],
 "metadata": {
  "kernelspec": {
   "display_name": "Python 3",
   "language": "python",
   "name": "python3"
  },
  "language_info": {
   "codemirror_mode": {
    "name": "ipython",
    "version": 3
   },
   "file_extension": ".py",
   "mimetype": "text/x-python",
   "name": "python",
   "nbconvert_exporter": "python",
   "pygments_lexer": "ipython3",
   "version": "3.8.3"
  }
 },
 "nbformat": 4,
 "nbformat_minor": 4
}
