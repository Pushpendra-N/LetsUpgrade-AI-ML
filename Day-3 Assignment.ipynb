{
 "cells": [
  {
   "cell_type": "markdown",
   "metadata": {},
   "source": [
    "__Program to subtract two complex number__"
   ]
  },
  {
   "cell_type": "code",
   "execution_count": 14,
   "metadata": {},
   "outputs": [
    {
     "name": "stdout",
     "output_type": "stream",
     "text": [
      "subtraction of (8+2j) and (5+1j) = (3+1j)\n"
     ]
    }
   ],
   "source": [
    "comp1=8+2j\n",
    "comp2=5+1j\n",
    "result=comp1-comp2\n",
    "print(\"subtraction of\",comp1,\"and\",comp2,\"=\",result)"
   ]
  },
  {
   "cell_type": "markdown",
   "metadata": {},
   "source": [
    "__Program to find fourth root of number__"
   ]
  },
  {
   "cell_type": "code",
   "execution_count": 15,
   "metadata": {},
   "outputs": [
    {
     "name": "stdout",
     "output_type": "stream",
     "text": [
      "fourth Root of 256 = 4.0\n"
     ]
    }
   ],
   "source": [
    "num=256\n",
    "print(\"fourth Root of\",num,\"=\",num**(1/4))"
   ]
  },
  {
   "cell_type": "markdown",
   "metadata": {},
   "source": [
    "__Program to Swap two no. using Temporary Variable__"
   ]
  },
  {
   "cell_type": "code",
   "execution_count": 16,
   "metadata": {},
   "outputs": [
    {
     "name": "stdout",
     "output_type": "stream",
     "text": [
      "Before swapping a= 8 b= 5\n",
      "After swapping a= 5 b= 8\n"
     ]
    }
   ],
   "source": [
    "num1=8\n",
    "num2=5\n",
    "print(\"Before swapping a=\",num1,\"b=\",num2)\n",
    "temp=num1\n",
    "num1=num2\n",
    "num2=temp\n",
    "print(\"After swapping a=\",num1,\"b=\",num2)\n"
   ]
  },
  {
   "cell_type": "markdown",
   "metadata": {},
   "source": [
    "__Program to Swap two no. without using Temporary Varible__"
   ]
  },
  {
   "cell_type": "code",
   "execution_count": 17,
   "metadata": {},
   "outputs": [
    {
     "name": "stdout",
     "output_type": "stream",
     "text": [
      "Value of a and b Before swapping a= 8 b= 5\n",
      "Value of a and b After swapping a= 5 b= 8\n"
     ]
    }
   ],
   "source": [
    "a=8\n",
    "b=5\n",
    "print(\"Value of a and b Before swapping a=\",a,\"b=\",b)\n",
    "a=a+b\n",
    "b=a-b\n",
    "a=a-b\n",
    "print(\"Value of a and b After swapping a=\",a,\"b=\",b)"
   ]
  },
  {
   "cell_type": "markdown",
   "metadata": {},
   "source": [
    "__Program to convert Fahrenheit to kelvin and celsius both__"
   ]
  },
  {
   "cell_type": "code",
   "execution_count": 18,
   "metadata": {},
   "outputs": [
    {
     "name": "stdout",
     "output_type": "stream",
     "text": [
      "Temperature in fahrenheit= 90\n",
      "Temperature in celsius= 32.22222222222222\n",
      "Temperature in fahrenheit= 305.37222222222226\n"
     ]
    }
   ],
   "source": [
    "fahr=90\n",
    "print(\"Temperature in fahrenheit=\",fahr)\n",
    "celsius=(fahr-32)*(5/9)\n",
    "print(\"Temperature in celsius=\",celsius)\n",
    "kelvin=(fahr+459.67)*(5/9)\n",
    "print(\"Temperature in fahrenheit=\",kelvin)\n",
    "\n"
   ]
  },
  {
   "cell_type": "markdown",
   "metadata": {},
   "source": [
    "__Program to demonstrate all the available data types in Python__"
   ]
  },
  {
   "cell_type": "code",
   "execution_count": 19,
   "metadata": {},
   "outputs": [
    {
     "name": "stdout",
     "output_type": "stream",
     "text": [
      "Type of 10 = <class 'int'>\n",
      "Type of 3.33 = <class 'float'>\n",
      "Type of Hello = <class 'str'>\n",
      "Type of (2+5j) = <class 'complex'>\n",
      "Type of [1, 2, 3, 4, 5] = <class 'list'>\n",
      "Type of (1, 2, 3, 4, 5) = <class 'tuple'>\n",
      "Type of {1, 2, 3, 4, 5} = <class 'set'>\n",
      "Type of True = <class 'bool'>\n"
     ]
    }
   ],
   "source": [
    "Integer=10\n",
    "print(\"Type of\",Integer,\"=\",type(Integer))\n",
    "Float=3.33\n",
    "print(\"Type of\",Float,\"=\",type(Float))\n",
    "Str=\"Hello\"\n",
    "print(\"Type of\",Str,\"=\",type(Str))\n",
    "Complex=2+5j\n",
    "print(\"Type of\",Complex,\"=\",type(Complex))\n",
    "list=[1,2,3,4,5]\n",
    "print(\"Type of\",list,\"=\",type(list))\n",
    "Tuple=(1,2,3,4,5)\n",
    "print(\"Type of\",Tuple,\"=\",type(Tuple))\n",
    "Set={1,2,3,4,5}\n",
    "print(\"Type of\",Set,\"=\",type(Set))\n",
    "Bool=True\n",
    "print(\"Type of\",Bool,\"=\",type(Bool))\n",
    "\n"
   ]
  }
 ],
 "metadata": {
  "kernelspec": {
   "display_name": "Python 3",
   "language": "python",
   "name": "python3"
  },
  "language_info": {
   "codemirror_mode": {
    "name": "ipython",
    "version": 3
   },
   "file_extension": ".py",
   "mimetype": "text/x-python",
   "name": "python",
   "nbconvert_exporter": "python",
   "pygments_lexer": "ipython3",
   "version": "3.8.3"
  }
 },
 "nbformat": 4,
 "nbformat_minor": 4
}
